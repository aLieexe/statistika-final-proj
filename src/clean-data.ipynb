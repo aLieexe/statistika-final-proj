{
 "cells": [
  {
   "cell_type": "code",
   "execution_count": 3,
   "metadata": {},
   "outputs": [],
   "source": [
    "import pandas as pd"
   ]
  },
  {
   "cell_type": "code",
   "execution_count": 4,
   "metadata": {},
   "outputs": [
    {
     "name": "stderr",
     "output_type": "stream",
     "text": [
      "/tmp/ipykernel_31869/1809027915.py:8: SettingWithCopyWarning: \n",
      "A value is trying to be set on a copy of a slice from a DataFrame.\n",
      "Try using .loc[row_indexer,col_indexer] = value instead\n",
      "\n",
      "See the caveats in the documentation: https://pandas.pydata.org/pandas-docs/stable/user_guide/indexing.html#returning-a-view-versus-a-copy\n",
      "  result['Year'] = result['Date'].str[:4].astype(int)\n"
     ]
    },
    {
     "data": {
      "text/html": [
       "<div>\n",
       "<style scoped>\n",
       "    .dataframe tbody tr th:only-of-type {\n",
       "        vertical-align: middle;\n",
       "    }\n",
       "\n",
       "    .dataframe tbody tr th {\n",
       "        vertical-align: top;\n",
       "    }\n",
       "\n",
       "    .dataframe thead th {\n",
       "        text-align: right;\n",
       "    }\n",
       "</style>\n",
       "<table border=\"1\" class=\"dataframe\">\n",
       "  <thead>\n",
       "    <tr style=\"text-align: right;\">\n",
       "      <th></th>\n",
       "      <th>Date</th>\n",
       "      <th>Value</th>\n",
       "    </tr>\n",
       "  </thead>\n",
       "  <tbody>\n",
       "    <tr>\n",
       "      <th>1232</th>\n",
       "      <td>2010M01</td>\n",
       "      <td>388.91</td>\n",
       "    </tr>\n",
       "    <tr>\n",
       "      <th>1234</th>\n",
       "      <td>2010M02</td>\n",
       "      <td>390.41</td>\n",
       "    </tr>\n",
       "    <tr>\n",
       "      <th>1236</th>\n",
       "      <td>2010M03</td>\n",
       "      <td>391.37</td>\n",
       "    </tr>\n",
       "    <tr>\n",
       "      <th>1238</th>\n",
       "      <td>2010M04</td>\n",
       "      <td>392.67</td>\n",
       "    </tr>\n",
       "    <tr>\n",
       "      <th>1240</th>\n",
       "      <td>2010M05</td>\n",
       "      <td>393.21</td>\n",
       "    </tr>\n",
       "    <tr>\n",
       "      <th>...</th>\n",
       "      <td>...</td>\n",
       "      <td>...</td>\n",
       "    </tr>\n",
       "    <tr>\n",
       "      <th>1590</th>\n",
       "      <td>2024M12</td>\n",
       "      <td>425.40</td>\n",
       "    </tr>\n",
       "    <tr>\n",
       "      <th>1592</th>\n",
       "      <td>2025M01</td>\n",
       "      <td>426.65</td>\n",
       "    </tr>\n",
       "    <tr>\n",
       "      <th>1594</th>\n",
       "      <td>2025M02</td>\n",
       "      <td>427.09</td>\n",
       "    </tr>\n",
       "    <tr>\n",
       "      <th>1596</th>\n",
       "      <td>2025M03</td>\n",
       "      <td>428.15</td>\n",
       "    </tr>\n",
       "    <tr>\n",
       "      <th>1598</th>\n",
       "      <td>2025M04</td>\n",
       "      <td>429.64</td>\n",
       "    </tr>\n",
       "  </tbody>\n",
       "</table>\n",
       "<p>184 rows × 2 columns</p>\n",
       "</div>"
      ],
      "text/plain": [
       "         Date   Value\n",
       "1232  2010M01  388.91\n",
       "1234  2010M02  390.41\n",
       "1236  2010M03  391.37\n",
       "1238  2010M04  392.67\n",
       "1240  2010M05  393.21\n",
       "...       ...     ...\n",
       "1590  2024M12  425.40\n",
       "1592  2025M01  426.65\n",
       "1594  2025M02  427.09\n",
       "1596  2025M03  428.15\n",
       "1598  2025M04  429.64\n",
       "\n",
       "[184 rows x 2 columns]"
      ]
     },
     "execution_count": 4,
     "metadata": {},
     "output_type": "execute_result"
    }
   ],
   "source": [
    "file_path = \"/home/alie/kuliah/Sm4/Statistika/finale-statistika/Indicator_3_2_Climate_Indicators_Monthly_Atmospheric_Carbon_Dioxide_concentrations_-7117330003911643847(1).csv\"\n",
    "data = pd.read_csv(file_path)\n",
    "\n",
    "filtered_data = data[data['Unit'] == \"Parts Per Million\"]\n",
    "\n",
    "result = filtered_data[['Date', 'Value']]\n",
    "\n",
    "result['Year'] = result['Date'].str[:4].astype(int)\n",
    "result_2010 = result[result['Year'] >= 2010].drop(columns=['Year'])\n",
    "\n",
    "\n",
    "output_path = \"/home/alie/kuliah/Sm4/Statistika/finale-statistika/filtered_data_2010.csv\"\n",
    "result_2010.to_csv(output_path, index=False)\n",
    "\n",
    "result_2010"
   ]
  }
 ],
 "metadata": {
  "kernelspec": {
   "display_name": "base",
   "language": "python",
   "name": "python3"
  },
  "language_info": {
   "codemirror_mode": {
    "name": "ipython",
    "version": 3
   },
   "file_extension": ".py",
   "mimetype": "text/x-python",
   "name": "python",
   "nbconvert_exporter": "python",
   "pygments_lexer": "ipython3",
   "version": "3.12.9"
  }
 },
 "nbformat": 4,
 "nbformat_minor": 2
}
